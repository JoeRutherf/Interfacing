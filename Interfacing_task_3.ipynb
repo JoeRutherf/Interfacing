{
 "cells": [
  {
   "cell_type": "code",
   "execution_count": 1,
   "id": "b1ff30db-f1b1-4cd0-a6d3-d1166ac94ac7",
   "metadata": {},
   "outputs": [
    {
     "data": {
      "text/plain": [
       "            Replicable Reproducable Repeatable Rerunable Reusable\n",
       "Pseudo code          1            4          4         4        4\n",
       "Python               4            1          1         3        3\n",
       "c++                  3            1          1         1        1\n",
       "R package            2            1          1         2        2"
      ]
     },
     "metadata": {},
     "output_type": "display_data"
    }
   ],
   "source": [
    "data= matrix(c(1,4,3,2,4,1,1,1,4,1,1,1,4,3,1,2,4,3,1,2), ncol=5, byrow=FALSE)\n",
    "\n",
    "colnames(data) = c('Replicable','Reproducable','Repeatable','Rerunable','Reusable')\n",
    "rownames(data) <- c('Pseudo code','Python','c++','R package')\n",
    " \n",
    "final=as.table(data)\n",
    " \n",
    "final"
   ]
  },
  {
   "cell_type": "markdown",
   "id": "588b8d80-0a2f-4e7c-a573-302c225a1b85",
   "metadata": {},
   "source": [
    "Replicable:\n",
    "\n",
    "A replicable code is one that is written in such a way that someone can easily write their own code that matches the original code's conceptual description, in order to produce the same results.\n",
    "\n",
    "The pseudo code is the most replicable because it is, in theory, a set of instructions for someone to follow to produce a result, which is why it is ranked as the best. In second place I put the c++ code, because there is a README file on Github with instructions of how the code can be used to produce results which would help someone, along with the comments, to produce a similar code. The R package is ranked as the third best for replicability because on Github it comes with a README file so that there are instructions on how to use the code, but the use of fewer comments means that it is slightly less easy to be replicated than the c++ code. The Python code is the least replicable because there is not a README file to clearly state how it can be used, and the lack of comments makes it difficult to be replicated."
   ]
  },
  {
   "cell_type": "markdown",
   "id": "3e3aeb05-b7c8-4edf-9484-66efdd92014a",
   "metadata": {},
   "source": [
    "Reproducable:\n",
    "\n",
    "A code is seen as being reproducable if someones takes the code and inputs, execute it, and is able to return the same result. If a code uses randomness, using a seed helps make sure that the same result can be observed. However, the Python, c++ and R package codes do not use any randomness, so every time the same input gets used the same output is always observed; therefore, they are all as reproducable as each other, which is why they have the same ranking. Since the pseudo code is not a runnable code, it does not produce a result, which is why it is ranked as being the worst for reproducability."
   ]
  },
  {
   "cell_type": "markdown",
   "id": "3cf337b6-9e7f-4a44-83e1-33c6ccb140ff",
   "metadata": {},
   "source": [
    "Repeatable:\n",
    "\n",
    "A code is repeatable if you are able to make sure that you can produce the same output over successive runs of your program, making the program deterministic. If a code uses randomness, using a seed helps make sure that the same result can be observed. Similarly to reproducability, since the Python, c++ and R package codes does not use anything random and always produces the same result when the input is the same, they all have the same ranking as eachother to show they are all equally repeatable. Also for the same reason as reproducability, the pseudo code is ranked last.\n",
    "\n",
    "The use of the function in the R-package random_table that changes the order that the preferences are represented in the preference tables uses randomness, but does not have a fixed seed because that would remove the randomness. To make that function more repeatable, a seed could be added, but because this function is only used optionally, I still scored the R-package the same as the others."
   ]
  },
  {
   "cell_type": "markdown",
   "id": "1484092e-2b3a-43b8-ba66-b303db548342",
   "metadata": {},
   "source": [
    "Rerunable:\n",
    "\n",
    "Code is seen as rerunable if it can be run again when necessary, particularly after the code was made. That means that it is important for a code to be runable for recent versions of the program that it was written in.\n",
    "\n",
    "The c++ code is most rerunable because it was set to work for c++17 which is the standard version of c++ that is used, so it is best ranked for rerunnability. The R package is ranked second best for rerunnability because it uses c++17 in the code that is converted to R. The R version does not explicitly specify which R version is used, which is why it is not ranked higher. In the Python code, it is not specified which version of Python is used which is why it is ranked third, and the only reason it is not ranked last is because pseudo code is not actually runnable at all, hence it being ranked last."
   ]
  },
  {
   "cell_type": "markdown",
   "id": "f9d8f372-02d6-450d-8df7-4de35b96cb3d",
   "metadata": {},
   "source": [
    "Reusable:\n",
    "\n",
    "Code is reusable if it can be easily used, altered and modified by people. A useful way to make code more modifiable is to include comments to make it more understandable so people can easily figure out what to alter depending on what they're trying to do with the code.\n",
    "\n",
    "The most reusable is the c++ code, since I included a lot of comments throughout it to make it easy for other people (and myself in the future) to use it and understand what is going on, if anyone wanted to alter the code. The second most reusable is the R package. Whilst the code I used in the R package is not commented, it does use the c++ fundamental algorithm that is commented, so it isn't totally unreadable. Also, there are a few comments in the package module so people can easily tell which type of inputs are needed for each function. The python code is ranked second last because I did not comment it at all, which means that it would be more difficult for someone to reuse it, since they'd have to try and understand each line first. The pseudo code is ranked last for reusability because it is not a code that actually runs, so it can't be altered or modified."
   ]
  }
 ],
 "metadata": {
  "kernelspec": {
   "display_name": "R",
   "language": "R",
   "name": "ir"
  },
  "language_info": {
   "codemirror_mode": "r",
   "file_extension": ".r",
   "mimetype": "text/x-r-source",
   "name": "R",
   "pygments_lexer": "r",
   "version": "4.1.2"
  }
 },
 "nbformat": 4,
 "nbformat_minor": 5
}
