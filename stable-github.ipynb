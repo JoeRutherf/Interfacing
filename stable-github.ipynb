{
 "cells": [
  {
   "cell_type": "code",
   "execution_count": 1,
   "id": "ebf04e6f-9c6e-46be-811d-9532f8f880a7",
   "metadata": {},
   "outputs": [
    {
     "name": "stderr",
     "output_type": "stream",
     "text": [
      "Installing package into ‘/home/rutherf7/STOR-601-env/R-packages’\n",
      "(as ‘lib’ is unspecified)\n",
      "\n"
     ]
    }
   ],
   "source": [
    "install.packages(\"Rcpp\")"
   ]
  },
  {
   "cell_type": "code",
   "execution_count": 2,
   "id": "637f01fb-9a28-4e11-89b0-f92933bd2004",
   "metadata": {},
   "outputs": [],
   "source": [
    "library(Rcpp)"
   ]
  },
  {
   "cell_type": "code",
   "execution_count": 3,
   "id": "68fbb003-c9e5-45ac-b95c-beb1ae5bf8d8",
   "metadata": {},
   "outputs": [
    {
     "name": "stderr",
     "output_type": "stream",
     "text": [
      "Installing package into ‘/home/rutherf7/STOR-601-env/R-packages’\n",
      "(as ‘lib’ is unspecified)\n",
      "\n"
     ]
    }
   ],
   "source": [
    "install.packages(\"devtools\")"
   ]
  },
  {
   "cell_type": "code",
   "execution_count": 4,
   "id": "50894d18-d4fb-4911-8a0c-36b0fc0fd498",
   "metadata": {},
   "outputs": [
    {
     "name": "stderr",
     "output_type": "stream",
     "text": [
      "Downloading GitHub repo JoeRutherf/Interfacing@HEAD\n",
      "\n"
     ]
    },
    {
     "name": "stdout",
     "output_type": "stream",
     "text": [
      "\n",
      "\u001b[36m──\u001b[39m \u001b[36mR CMD build\u001b[39m \u001b[36m───────────────────────────────────────────────────────────────────────────\u001b[39m\n",
      "\u001b[32m✔\u001b[39m  \u001b[90mchecking for file ‘/tmp/RtmpR7boBE/remotesddded6b93f5f5/JoeRutherf-Interfacing-10b2c81/stable/DESCRIPTION’\u001b[39m\u001b[36m\u001b[39m\n",
      "\u001b[90m─\u001b[39m\u001b[90m  \u001b[39m\u001b[90mpreparing ‘stable’:\u001b[39m\u001b[36m\u001b[39m\n",
      "\u001b[32m✔\u001b[39m  \u001b[90mchecking DESCRIPTION meta-information\u001b[39m\u001b[36m\u001b[39m\n",
      "\u001b[90m─\u001b[39m\u001b[90m  \u001b[39m\u001b[90mcleaning src\u001b[39m\u001b[36m\u001b[39m\n",
      "\u001b[90m─\u001b[39m\u001b[90m  \u001b[39m\u001b[90mchecking for LF line-endings in source and make files and shell scripts\u001b[39m\u001b[36m\u001b[39m\n",
      "\u001b[90m─\u001b[39m\u001b[90m  \u001b[39m\u001b[90mchecking for empty or unneeded directories\u001b[39m\u001b[36m\u001b[39m\n",
      "\u001b[90m─\u001b[39m\u001b[90m  \u001b[39m\u001b[90mbuilding ‘stable_1.0.tar.gz’\u001b[39m\u001b[36m\u001b[39m\n",
      "   \n",
      "\r"
     ]
    },
    {
     "name": "stderr",
     "output_type": "stream",
     "text": [
      "Installing package into ‘/home/rutherf7/STOR-601-env/R-packages’\n",
      "(as ‘lib’ is unspecified)\n",
      "\n"
     ]
    }
   ],
   "source": [
    "devtools::install_github(\"JoeRutherf/Interfacing/stable\",force=TRUE)"
   ]
  },
  {
   "cell_type": "code",
   "execution_count": 5,
   "id": "e42509f4-c2ce-47b1-a7bd-db4452540112",
   "metadata": {},
   "outputs": [],
   "source": [
    "library(stable)"
   ]
  },
  {
   "cell_type": "markdown",
   "id": "ce61708e-a4f5-47be-a6e4-896a8f864c67",
   "metadata": {},
   "source": [
    "The example below shows how the stable package can be used to find a set of stable marriages from two preference tables. The preference tables in this example are Z_1 and Z_2, so all preference tables must be in their form. To check for errors, the stable_marriage function also outputs whether the marriages are stable. The Fundamental Algorithm should always produce stable marriages, so it should always output \"stable\". If it does not output this, then there is a problem."
   ]
  },
  {
   "cell_type": "code",
   "execution_count": 6,
   "id": "fda68808-49a3-47ed-a5dd-1f185cabc614",
   "metadata": {},
   "outputs": [
    {
     "name": "stdout",
     "output_type": "stream",
     "text": [
      "Stable\n"
     ]
    },
    {
     "data": {
      "text/html": [
       "<style>\n",
       ".dl-inline {width: auto; margin:0; padding: 0}\n",
       ".dl-inline>dt, .dl-inline>dd {float: none; width: auto; display: inline-block}\n",
       ".dl-inline>dt::after {content: \":\\0020\"; padding-right: .5ex}\n",
       ".dl-inline>dt:not(:first-of-type) {padding-left: .5ex}\n",
       "</style><dl class=dl-inline><dt>a</dt><dd>'A'</dd><dt>d</dt><dd>'B'</dd><dt>b</dt><dd>'D'</dd><dt>c</dt><dd>'C'</dd></dl>\n"
      ],
      "text/latex": [
       "\\begin{description*}\n",
       "\\item[a] 'A'\n",
       "\\item[d] 'B'\n",
       "\\item[b] 'D'\n",
       "\\item[c] 'C'\n",
       "\\end{description*}\n"
      ],
      "text/markdown": [
       "a\n",
       ":   'A'd\n",
       ":   'B'b\n",
       ":   'D'c\n",
       ":   'C'\n",
       "\n"
      ],
      "text/plain": [
       "  a   d   b   c \n",
       "\"A\" \"B\" \"D\" \"C\" "
      ]
     },
     "metadata": {},
     "output_type": "display_data"
    }
   ],
   "source": [
    "X_1 <- c(\"A\",\"a\",\"b\",\"d\",\"c\")\n",
    "X_2 <- c(\"B\",\"d\",\"b\",\"c\",\"a\")\n",
    "X_3 <- c(\"C\",\"c\",\"a\",\"b\",\"d\")\n",
    "X_4 <- c(\"D\",\"d\",\"b\",\"a\",\"c\")\n",
    "Z_1 <- list(X_1,X_2,X_3,X_4)\n",
    "\n",
    "Y_1 <- c(\"a\",\"B\",\"D\",\"C\",\"A\")\n",
    "Y_2 <- c(\"b\",\"C\",\"A\",\"B\",\"D\")\n",
    "Y_3 <- c(\"c\",\"A\",\"B\",\"C\",\"D\")\n",
    "Y_4 <- c(\"d\",\"C\",\"B\",\"D\",\"A\")\n",
    "Z_2 <- list(Y_1,Y_2,Y_3,Y_4)\n",
    "\n",
    "stable_marriage(Z_1,Z_2)"
   ]
  },
  {
   "cell_type": "markdown",
   "id": "3fa11518-238f-425e-b2fb-bb29ec31a8bb",
   "metadata": {},
   "source": [
    "It is also interesting to randomly rearrange the preference tables by chnaging the order of the rows. It is interesting to rearrange them, because in the previous example, man A's preferences are priorities since his preference vector is first. By randomly choosing another man's preferences at the start of the list, his preferences are prioritised, which could potentially change the stable matching that is produced. The random tables, Z_3 and Z_4, are printed below to show what they are like. The function random_stable randomly changes each person's preferences in the list, and it can change the stable marriages each time the stable_marriage function is used."
   ]
  },
  {
   "cell_type": "code",
   "execution_count": 7,
   "id": "9b0fff4f-5576-46cc-adb3-f8945bb8b5f2",
   "metadata": {},
   "outputs": [
    {
     "data": {
      "text/html": [
       "<ol>\n",
       "\t<li><style>\n",
       ".list-inline {list-style: none; margin:0; padding: 0}\n",
       ".list-inline>li {display: inline-block}\n",
       ".list-inline>li:not(:last-child)::after {content: \"\\00b7\"; padding: 0 .5ex}\n",
       "</style>\n",
       "<ol class=list-inline><li>'C'</li><li>'c'</li><li>'a'</li><li>'b'</li><li>'d'</li></ol>\n",
       "</li>\n",
       "\t<li><style>\n",
       ".list-inline {list-style: none; margin:0; padding: 0}\n",
       ".list-inline>li {display: inline-block}\n",
       ".list-inline>li:not(:last-child)::after {content: \"\\00b7\"; padding: 0 .5ex}\n",
       "</style>\n",
       "<ol class=list-inline><li>'D'</li><li>'d'</li><li>'b'</li><li>'a'</li><li>'c'</li></ol>\n",
       "</li>\n",
       "\t<li><style>\n",
       ".list-inline {list-style: none; margin:0; padding: 0}\n",
       ".list-inline>li {display: inline-block}\n",
       ".list-inline>li:not(:last-child)::after {content: \"\\00b7\"; padding: 0 .5ex}\n",
       "</style>\n",
       "<ol class=list-inline><li>'A'</li><li>'a'</li><li>'b'</li><li>'d'</li><li>'c'</li></ol>\n",
       "</li>\n",
       "\t<li><style>\n",
       ".list-inline {list-style: none; margin:0; padding: 0}\n",
       ".list-inline>li {display: inline-block}\n",
       ".list-inline>li:not(:last-child)::after {content: \"\\00b7\"; padding: 0 .5ex}\n",
       "</style>\n",
       "<ol class=list-inline><li>'B'</li><li>'d'</li><li>'b'</li><li>'c'</li><li>'a'</li></ol>\n",
       "</li>\n",
       "</ol>\n"
      ],
      "text/latex": [
       "\\begin{enumerate}\n",
       "\\item \\begin{enumerate*}\n",
       "\\item 'C'\n",
       "\\item 'c'\n",
       "\\item 'a'\n",
       "\\item 'b'\n",
       "\\item 'd'\n",
       "\\end{enumerate*}\n",
       "\n",
       "\\item \\begin{enumerate*}\n",
       "\\item 'D'\n",
       "\\item 'd'\n",
       "\\item 'b'\n",
       "\\item 'a'\n",
       "\\item 'c'\n",
       "\\end{enumerate*}\n",
       "\n",
       "\\item \\begin{enumerate*}\n",
       "\\item 'A'\n",
       "\\item 'a'\n",
       "\\item 'b'\n",
       "\\item 'd'\n",
       "\\item 'c'\n",
       "\\end{enumerate*}\n",
       "\n",
       "\\item \\begin{enumerate*}\n",
       "\\item 'B'\n",
       "\\item 'd'\n",
       "\\item 'b'\n",
       "\\item 'c'\n",
       "\\item 'a'\n",
       "\\end{enumerate*}\n",
       "\n",
       "\\end{enumerate}\n"
      ],
      "text/markdown": [
       "1. 1. 'C'\n",
       "2. 'c'\n",
       "3. 'a'\n",
       "4. 'b'\n",
       "5. 'd'\n",
       "\n",
       "\n",
       "\n",
       "2. 1. 'D'\n",
       "2. 'd'\n",
       "3. 'b'\n",
       "4. 'a'\n",
       "5. 'c'\n",
       "\n",
       "\n",
       "\n",
       "3. 1. 'A'\n",
       "2. 'a'\n",
       "3. 'b'\n",
       "4. 'd'\n",
       "5. 'c'\n",
       "\n",
       "\n",
       "\n",
       "4. 1. 'B'\n",
       "2. 'd'\n",
       "3. 'b'\n",
       "4. 'c'\n",
       "5. 'a'\n",
       "\n",
       "\n",
       "\n",
       "\n",
       "\n"
      ],
      "text/plain": [
       "[[1]]\n",
       "[1] \"C\" \"c\" \"a\" \"b\" \"d\"\n",
       "\n",
       "[[2]]\n",
       "[1] \"D\" \"d\" \"b\" \"a\" \"c\"\n",
       "\n",
       "[[3]]\n",
       "[1] \"A\" \"a\" \"b\" \"d\" \"c\"\n",
       "\n",
       "[[4]]\n",
       "[1] \"B\" \"d\" \"b\" \"c\" \"a\"\n"
      ]
     },
     "metadata": {},
     "output_type": "display_data"
    },
    {
     "data": {
      "text/html": [
       "<ol>\n",
       "\t<li><style>\n",
       ".list-inline {list-style: none; margin:0; padding: 0}\n",
       ".list-inline>li {display: inline-block}\n",
       ".list-inline>li:not(:last-child)::after {content: \"\\00b7\"; padding: 0 .5ex}\n",
       "</style>\n",
       "<ol class=list-inline><li>'d'</li><li>'C'</li><li>'B'</li><li>'D'</li><li>'A'</li></ol>\n",
       "</li>\n",
       "\t<li><style>\n",
       ".list-inline {list-style: none; margin:0; padding: 0}\n",
       ".list-inline>li {display: inline-block}\n",
       ".list-inline>li:not(:last-child)::after {content: \"\\00b7\"; padding: 0 .5ex}\n",
       "</style>\n",
       "<ol class=list-inline><li>'c'</li><li>'A'</li><li>'B'</li><li>'C'</li><li>'D'</li></ol>\n",
       "</li>\n",
       "\t<li><style>\n",
       ".list-inline {list-style: none; margin:0; padding: 0}\n",
       ".list-inline>li {display: inline-block}\n",
       ".list-inline>li:not(:last-child)::after {content: \"\\00b7\"; padding: 0 .5ex}\n",
       "</style>\n",
       "<ol class=list-inline><li>'b'</li><li>'C'</li><li>'A'</li><li>'B'</li><li>'D'</li></ol>\n",
       "</li>\n",
       "\t<li><style>\n",
       ".list-inline {list-style: none; margin:0; padding: 0}\n",
       ".list-inline>li {display: inline-block}\n",
       ".list-inline>li:not(:last-child)::after {content: \"\\00b7\"; padding: 0 .5ex}\n",
       "</style>\n",
       "<ol class=list-inline><li>'a'</li><li>'B'</li><li>'D'</li><li>'C'</li><li>'A'</li></ol>\n",
       "</li>\n",
       "</ol>\n"
      ],
      "text/latex": [
       "\\begin{enumerate}\n",
       "\\item \\begin{enumerate*}\n",
       "\\item 'd'\n",
       "\\item 'C'\n",
       "\\item 'B'\n",
       "\\item 'D'\n",
       "\\item 'A'\n",
       "\\end{enumerate*}\n",
       "\n",
       "\\item \\begin{enumerate*}\n",
       "\\item 'c'\n",
       "\\item 'A'\n",
       "\\item 'B'\n",
       "\\item 'C'\n",
       "\\item 'D'\n",
       "\\end{enumerate*}\n",
       "\n",
       "\\item \\begin{enumerate*}\n",
       "\\item 'b'\n",
       "\\item 'C'\n",
       "\\item 'A'\n",
       "\\item 'B'\n",
       "\\item 'D'\n",
       "\\end{enumerate*}\n",
       "\n",
       "\\item \\begin{enumerate*}\n",
       "\\item 'a'\n",
       "\\item 'B'\n",
       "\\item 'D'\n",
       "\\item 'C'\n",
       "\\item 'A'\n",
       "\\end{enumerate*}\n",
       "\n",
       "\\end{enumerate}\n"
      ],
      "text/markdown": [
       "1. 1. 'd'\n",
       "2. 'C'\n",
       "3. 'B'\n",
       "4. 'D'\n",
       "5. 'A'\n",
       "\n",
       "\n",
       "\n",
       "2. 1. 'c'\n",
       "2. 'A'\n",
       "3. 'B'\n",
       "4. 'C'\n",
       "5. 'D'\n",
       "\n",
       "\n",
       "\n",
       "3. 1. 'b'\n",
       "2. 'C'\n",
       "3. 'A'\n",
       "4. 'B'\n",
       "5. 'D'\n",
       "\n",
       "\n",
       "\n",
       "4. 1. 'a'\n",
       "2. 'B'\n",
       "3. 'D'\n",
       "4. 'C'\n",
       "5. 'A'\n",
       "\n",
       "\n",
       "\n",
       "\n",
       "\n"
      ],
      "text/plain": [
       "[[1]]\n",
       "[1] \"d\" \"C\" \"B\" \"D\" \"A\"\n",
       "\n",
       "[[2]]\n",
       "[1] \"c\" \"A\" \"B\" \"C\" \"D\"\n",
       "\n",
       "[[3]]\n",
       "[1] \"b\" \"C\" \"A\" \"B\" \"D\"\n",
       "\n",
       "[[4]]\n",
       "[1] \"a\" \"B\" \"D\" \"C\" \"A\"\n"
      ]
     },
     "metadata": {},
     "output_type": "display_data"
    },
    {
     "name": "stdout",
     "output_type": "stream",
     "text": [
      "Stable\n"
     ]
    },
    {
     "data": {
      "text/html": [
       "<style>\n",
       ".dl-inline {width: auto; margin:0; padding: 0}\n",
       ".dl-inline>dt, .dl-inline>dd {float: none; width: auto; display: inline-block}\n",
       ".dl-inline>dt::after {content: \":\\0020\"; padding-right: .5ex}\n",
       ".dl-inline>dt:not(:first-of-type) {padding-left: .5ex}\n",
       "</style><dl class=dl-inline><dt>d</dt><dd>'B'</dd><dt>a</dt><dd>'A'</dd><dt>c</dt><dd>'C'</dd><dt>b</dt><dd>'D'</dd></dl>\n"
      ],
      "text/latex": [
       "\\begin{description*}\n",
       "\\item[d] 'B'\n",
       "\\item[a] 'A'\n",
       "\\item[c] 'C'\n",
       "\\item[b] 'D'\n",
       "\\end{description*}\n"
      ],
      "text/markdown": [
       "d\n",
       ":   'B'a\n",
       ":   'A'c\n",
       ":   'C'b\n",
       ":   'D'\n",
       "\n"
      ],
      "text/plain": [
       "  d   a   c   b \n",
       "\"B\" \"A\" \"C\" \"D\" "
      ]
     },
     "metadata": {},
     "output_type": "display_data"
    }
   ],
   "source": [
    "X_1 <- c(\"A\",\"a\",\"b\",\"d\",\"c\")\n",
    "X_2 <- c(\"B\",\"d\",\"b\",\"c\",\"a\")\n",
    "X_3 <- c(\"C\",\"c\",\"a\",\"b\",\"d\")\n",
    "X_4 <- c(\"D\",\"d\",\"b\",\"a\",\"c\")\n",
    "Z_1 <- list(X_1,X_2,X_3,X_4)\n",
    "\n",
    "Y_1 <- c(\"a\",\"B\",\"D\",\"C\",\"A\")\n",
    "Y_2 <- c(\"b\",\"C\",\"A\",\"B\",\"D\")\n",
    "Y_3 <- c(\"c\",\"A\",\"B\",\"C\",\"D\")\n",
    "Y_4 <- c(\"d\",\"C\",\"B\",\"D\",\"A\")\n",
    "Z_2 <- list(Y_1,Y_2,Y_3,Y_4)\n",
    "\n",
    "Z_3 <- random_table(Z_1)\n",
    "Z_4 <- random_table(Z_2)\n",
    "\n",
    "Z_3\n",
    "Z_4\n",
    "\n",
    "stable_marriage(Z_3,Z_4)"
   ]
  },
  {
   "cell_type": "markdown",
   "id": "69566161-7cc8-43e5-ac24-2d23fb1a8112",
   "metadata": {},
   "source": [
    "To add capability, there is also a function made that can take different inputs. The function stable_marriage_other produces a set of stable marriages from two lists that just represent people's preferences, called C_1 and C_2, and two vectors containing the names of the men and women, called D_1 and D_2. \n",
    "\n",
    "It would be better if the stable_marriage function was able to take both sets of inputs rather than having the stable_marriage_other function to take the second set of inputs."
   ]
  },
  {
   "cell_type": "code",
   "execution_count": 8,
   "id": "551e5a18-6847-400f-b142-dc868775d733",
   "metadata": {},
   "outputs": [
    {
     "name": "stdout",
     "output_type": "stream",
     "text": [
      "Stable\n"
     ]
    },
    {
     "data": {
      "text/html": [
       "<style>\n",
       ".dl-inline {width: auto; margin:0; padding: 0}\n",
       ".dl-inline>dt, .dl-inline>dd {float: none; width: auto; display: inline-block}\n",
       ".dl-inline>dt::after {content: \":\\0020\"; padding-right: .5ex}\n",
       ".dl-inline>dt:not(:first-of-type) {padding-left: .5ex}\n",
       "</style><dl class=dl-inline><dt>Angela</dt><dd>'Alan'</dd><dt>Barbara</dt><dd>'Brian'</dd><dt>Chris</dt><dd>'Colin'</dd><dt>Evie</dt><dd>'Eric'</dd><dt>Debbie</dt><dd>'David'</dd></dl>\n"
      ],
      "text/latex": [
       "\\begin{description*}\n",
       "\\item[Angela] 'Alan'\n",
       "\\item[Barbara] 'Brian'\n",
       "\\item[Chris] 'Colin'\n",
       "\\item[Evie] 'Eric'\n",
       "\\item[Debbie] 'David'\n",
       "\\end{description*}\n"
      ],
      "text/markdown": [
       "Angela\n",
       ":   'Alan'Barbara\n",
       ":   'Brian'Chris\n",
       ":   'Colin'Evie\n",
       ":   'Eric'Debbie\n",
       ":   'David'\n",
       "\n"
      ],
      "text/plain": [
       " Angela Barbara   Chris    Evie  Debbie \n",
       " \"Alan\" \"Brian\" \"Colin\"  \"Eric\" \"David\" "
      ]
     },
     "metadata": {},
     "output_type": "display_data"
    }
   ],
   "source": [
    "A_1 <- c(\"Angela\",\"Barbara\",\"Chris\",\"Debbie\",\"Evie\")\n",
    "A_2 <- c(\"Barbara\",\"Chris\",\"Debbie\",\"Evie\",\"Angela\")\n",
    "A_3 <- c(\"Chris\",\"Debbie\",\"Evie\",\"Angela\",\"Barbara\")\n",
    "A_4 <- c(\"Debbie\",\"Evie\",\"Angela\",\"Barbara\",\"Chris\")\n",
    "A_5 <- c(\"Evie\",\"Angela\",\"Barbara\",\"Chris\",\"Debbie\")\n",
    "C_1 <- list(A_1,A_2,A_3,A_4,A_5)\n",
    "\n",
    "B_1 <- c(\"Brian\",\"Colin\",\"David\",\"Eric\",\"Alan\")\n",
    "B_2 <- c(\"Colin\",\"David\",\"Eric\",\"Alan\",\"Brian\")\n",
    "B_3 <- c(\"David\",\"Eric\",\"Alan\",\"Brian\",\"Colin\")\n",
    "B_4 <- c(\"Eric\",\"Alan\",\"Brian\",\"Colin\",\"David\")\n",
    "B_5 <- c(\"Alan\",\"Brian\",\"Colin\",\"David\",\"Eric\")\n",
    "C_2 <- list(B_1,B_2,B_3,B_4,B_5)\n",
    "\n",
    "D_1 <- c(\"Alan\",\"Brian\",\"Colin\",\"David\",\"Eric\")\n",
    "D_2 <- c(\"Angela\",\"Barbara\",\"Chris\",\"Debbie\",\"Evie\")\n",
    "\n",
    "stable_marriage_other(C_1,C_2,D_1,D_2)"
   ]
  },
  {
   "cell_type": "markdown",
   "id": "8905e046-00ab-44c1-8bc6-53375e12dc52",
   "metadata": {},
   "source": [
    "For an interesting case, we can use the random_table with the new stable_marriage_other function in the way below to change the order of each men's preferences, but the women's preferences are all kept the same. That means that the set of stable marriages can change each time the code below runs."
   ]
  },
  {
   "cell_type": "code",
   "execution_count": 9,
   "id": "cd5b696a-758b-4b8f-b6ca-2bd295eacf74",
   "metadata": {},
   "outputs": [
    {
     "name": "stdout",
     "output_type": "stream",
     "text": [
      "Stable\n"
     ]
    },
    {
     "data": {
      "text/html": [
       "<style>\n",
       ".dl-inline {width: auto; margin:0; padding: 0}\n",
       ".dl-inline>dt, .dl-inline>dd {float: none; width: auto; display: inline-block}\n",
       ".dl-inline>dt::after {content: \":\\0020\"; padding-right: .5ex}\n",
       ".dl-inline>dt:not(:first-of-type) {padding-left: .5ex}\n",
       "</style><dl class=dl-inline><dt>Angela</dt><dd>'Alan'</dd><dt>Barbara</dt><dd>'David'</dd><dt>Chris</dt><dd>'Brian'</dd><dt>Evie</dt><dd>'Eric'</dd><dt>Debbie</dt><dd>'Colin'</dd></dl>\n"
      ],
      "text/latex": [
       "\\begin{description*}\n",
       "\\item[Angela] 'Alan'\n",
       "\\item[Barbara] 'David'\n",
       "\\item[Chris] 'Brian'\n",
       "\\item[Evie] 'Eric'\n",
       "\\item[Debbie] 'Colin'\n",
       "\\end{description*}\n"
      ],
      "text/markdown": [
       "Angela\n",
       ":   'Alan'Barbara\n",
       ":   'David'Chris\n",
       ":   'Brian'Evie\n",
       ":   'Eric'Debbie\n",
       ":   'Colin'\n",
       "\n"
      ],
      "text/plain": [
       " Angela Barbara   Chris    Evie  Debbie \n",
       " \"Alan\" \"David\" \"Brian\"  \"Eric\" \"Colin\" "
      ]
     },
     "metadata": {},
     "output_type": "display_data"
    }
   ],
   "source": [
    "A_1 <- c(\"Angela\",\"Barbara\",\"Chris\",\"Debbie\",\"Evie\")\n",
    "A_2 <- c(\"Barbara\",\"Chris\",\"Debbie\",\"Evie\",\"Angela\")\n",
    "A_3 <- c(\"Chris\",\"Debbie\",\"Evie\",\"Angela\",\"Barbara\")\n",
    "A_4 <- c(\"Debbie\",\"Evie\",\"Angela\",\"Barbara\",\"Chris\")\n",
    "A_5 <- c(\"Evie\",\"Angela\",\"Barbara\",\"Chris\",\"Debbie\")\n",
    "C_1 <- list(A_1,A_2,A_3,A_4,A_5)\n",
    "\n",
    "B_1 <- c(\"Brian\",\"Colin\",\"David\",\"Eric\",\"Alan\")\n",
    "B_2 <- c(\"Colin\",\"David\",\"Eric\",\"Alan\",\"Brian\")\n",
    "B_3 <- c(\"David\",\"Eric\",\"Alan\",\"Brian\",\"Colin\")\n",
    "B_4 <- c(\"Eric\",\"Alan\",\"Brian\",\"Colin\",\"David\")\n",
    "B_5 <- c(\"Alan\",\"Brian\",\"Colin\",\"David\",\"Eric\")\n",
    "C_2 <- list(B_1,B_2,B_3,B_4,B_5)\n",
    "\n",
    "C_3 <- random_table(C_1)\n",
    "\n",
    "D_1 <- c(\"Alan\",\"Brian\",\"Colin\",\"David\",\"Eric\")\n",
    "D_2 <- c(\"Angela\",\"Barbara\",\"Chris\",\"Debbie\",\"Evie\")\n",
    "\n",
    "stable_marriage_other(C_3,C_2,D_1,D_2)"
   ]
  }
 ],
 "metadata": {
  "kernelspec": {
   "display_name": "R",
   "language": "R",
   "name": "ir"
  },
  "language_info": {
   "codemirror_mode": "r",
   "file_extension": ".r",
   "mimetype": "text/x-r-source",
   "name": "R",
   "pygments_lexer": "r",
   "version": "4.1.2"
  }
 },
 "nbformat": 4,
 "nbformat_minor": 5
}
